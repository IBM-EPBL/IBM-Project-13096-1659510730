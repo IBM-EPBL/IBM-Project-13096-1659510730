{
 "cells": [
  {
   "cell_type": "markdown",
   "id": "5dd4f73a",
   "metadata": {},
   "source": [
    "# from tensorflow.keras.preprocessing.image import ImageDataGenerator"
   ]
  },
  {
   "cell_type": "code",
   "execution_count": 1,
   "id": "a9f775e0",
   "metadata": {},
   "outputs": [],
   "source": [
    "from tensorflow.keras.preprocessing.image import ImageDataGenerator"
   ]
  },
  {
   "cell_type": "code",
   "execution_count": 3,
   "id": "9514c76e",
   "metadata": {},
   "outputs": [],
   "source": [
    "train_datagen = ImageDataGenerator(rescale = 1./255, horizontal_flip = True, vertical_flip = True, zoom_range = 0.2)"
   ]
  },
  {
   "cell_type": "code",
   "execution_count": 4,
   "id": "0acdcf60",
   "metadata": {
    "scrolled": false
   },
   "outputs": [
    {
     "name": "stdout",
     "output_type": "stream",
     "text": [
      "Found 4317 images belonging to 5 classes.\n"
     ]
    }
   ],
   "source": [
    "x_train = train_datagen.flow_from_directory(r\"C:\\Users\\OMNR 1\\Desktop\\ASSIGNMENT\\flowers\", target_size = (64,64) , class_mode = \"categorical\", batch_size = 100)"
   ]
  },
  {
   "cell_type": "code",
   "execution_count": 5,
   "id": "6329bd5f",
   "metadata": {},
   "outputs": [],
   "source": [
    "from tensorflow.keras.models import Sequential\n",
    "from tensorflow.keras.layers import Convolution2D,MaxPooling2D,Flatten,Dense"
   ]
  },
  {
   "cell_type": "code",
   "execution_count": 6,
   "id": "07eabd87",
   "metadata": {},
   "outputs": [],
   "source": [
    "model = Sequential()"
   ]
  },
  {
   "cell_type": "code",
   "execution_count": 7,
   "id": "8a4ac3c1",
   "metadata": {},
   "outputs": [],
   "source": [
    "model.add(Convolution2D(32, (3,3), activation = \"relu\", input_shape = (64,64,3) ))"
   ]
  },
  {
   "cell_type": "code",
   "execution_count": 8,
   "id": "0a61fdc5",
   "metadata": {},
   "outputs": [],
   "source": [
    "model.add(MaxPooling2D(pool_size = (2,2)))"
   ]
  },
  {
   "cell_type": "code",
   "execution_count": 9,
   "id": "9798137c",
   "metadata": {},
   "outputs": [],
   "source": [
    "model.add(Flatten())"
   ]
  },
  {
   "cell_type": "code",
   "execution_count": 10,
   "id": "c8e040d8",
   "metadata": {},
   "outputs": [],
   "source": [
    "model.add(Dense(300, activation = \"relu\"))"
   ]
  },
  {
   "cell_type": "code",
   "execution_count": 11,
   "id": "b0221c91",
   "metadata": {},
   "outputs": [],
   "source": [
    "model.add(Dense(150, activation = \"relu\")) #mulitple dense layers"
   ]
  },
  {
   "cell_type": "code",
   "execution_count": 12,
   "id": "db1c8c0c",
   "metadata": {},
   "outputs": [],
   "source": [
    "model.add(Dense(5, activation = \"softmax\")) #output layer"
   ]
  },
  {
   "cell_type": "code",
   "execution_count": 13,
   "id": "fc3f3607",
   "metadata": {},
   "outputs": [],
   "source": [
    "model.compile(loss = \"categorical_crossentropy\", metrics = [\"accuracy\"], optimizer = \"adam\")"
   ]
  },
  {
   "cell_type": "code",
   "execution_count": 14,
   "id": "8e6821c1",
   "metadata": {},
   "outputs": [
    {
     "data": {
      "text/plain": [
       "44"
      ]
     },
     "execution_count": 14,
     "metadata": {},
     "output_type": "execute_result"
    }
   ],
   "source": [
    "len(x_train)"
   ]
  },
  {
   "cell_type": "code",
   "execution_count": 15,
   "id": "db40bac0",
   "metadata": {},
   "outputs": [
    {
     "name": "stdout",
     "output_type": "stream",
     "text": [
      "Epoch 1/15\n",
      "44/44 [==============================] - 69s 1s/step - loss: 1.6090 - accuracy: 0.3804\n",
      "Epoch 2/15\n",
      "44/44 [==============================] - 42s 958ms/step - loss: 1.1642 - accuracy: 0.5161\n",
      "Epoch 3/15\n",
      "44/44 [==============================] - 46s 1s/step - loss: 1.0920 - accuracy: 0.5578\n",
      "Epoch 4/15\n",
      "44/44 [==============================] - 53s 1s/step - loss: 1.0434 - accuracy: 0.5930\n",
      "Epoch 5/15\n",
      "44/44 [==============================] - 52s 1s/step - loss: 1.0008 - accuracy: 0.6027\n",
      "Epoch 6/15\n",
      "44/44 [==============================] - 50s 1s/step - loss: 0.9564 - accuracy: 0.6282\n",
      "Epoch 7/15\n",
      "44/44 [==============================] - 51s 1s/step - loss: 0.9299 - accuracy: 0.6382\n",
      "Epoch 8/15\n",
      "44/44 [==============================] - 47s 1s/step - loss: 0.9195 - accuracy: 0.6470\n",
      "Epoch 9/15\n",
      "44/44 [==============================] - 47s 1s/step - loss: 0.8566 - accuracy: 0.6688\n",
      "Epoch 10/15\n",
      "44/44 [==============================] - 47s 1s/step - loss: 0.8373 - accuracy: 0.6685\n",
      "Epoch 11/15\n",
      "44/44 [==============================] - 50s 1s/step - loss: 0.8404 - accuracy: 0.6732\n",
      "Epoch 12/15\n",
      "44/44 [==============================] - 49s 1s/step - loss: 0.8120 - accuracy: 0.6850\n",
      "Epoch 13/15\n",
      "44/44 [==============================] - 53s 1s/step - loss: 0.8029 - accuracy: 0.6852\n",
      "Epoch 14/15\n",
      "44/44 [==============================] - 52s 1s/step - loss: 0.7586 - accuracy: 0.7037\n",
      "Epoch 15/15\n",
      "44/44 [==============================] - 54s 1s/step - loss: 0.7558 - accuracy: 0.7109\n"
     ]
    },
    {
     "data": {
      "text/plain": [
       "<keras.callbacks.History at 0x25cda6ea6a0>"
      ]
     },
     "execution_count": 15,
     "metadata": {},
     "output_type": "execute_result"
    }
   ],
   "source": [
    "model.fit(x_train, epochs = 15, steps_per_epoch = len(x_train))"
   ]
  },
  {
   "cell_type": "code",
   "execution_count": 16,
   "id": "d317810b",
   "metadata": {},
   "outputs": [],
   "source": [
    "model.save(\"flowers.h5\")"
   ]
  },
  {
   "cell_type": "code",
   "execution_count": 17,
   "id": "5fd31e9a",
   "metadata": {},
   "outputs": [],
   "source": [
    "from tensorflow.keras.models import load_model\n",
    "from tensorflow.keras.preprocessing import image\n",
    "import numpy as np"
   ]
  },
  {
   "cell_type": "code",
   "execution_count": 18,
   "id": "8c0a5d71",
   "metadata": {},
   "outputs": [],
   "source": [
    "model = load_model(\"flowers.h5\")"
   ]
  },
  {
   "cell_type": "code",
   "execution_count": 35,
   "id": "a9ee9d16",
   "metadata": {},
   "outputs": [],
   "source": [
    "img = image.load_img(\"F:\\\\any2.jpg\", target_size = (64,64) )"
   ]
  },
  {
   "cell_type": "code",
   "execution_count": 36,
   "id": "1d716450",
   "metadata": {},
   "outputs": [
    {
     "data": {
      "image/png": "[encoded data removed]",
      "text/plain": [
       "<PIL.Image.Image image mode=RGB size=64x64 at 0x25CDE0749A0>"
      ]
     },
     "execution_count": 36,
     "metadata": {},
     "output_type": "execute_result"
    }
   ],
   "source": [
    "img"
   ]
  },
  {
   "cell_type": "code",
   "execution_count": 37,
   "id": "784ff4e1",
   "metadata": {},
   "outputs": [],
   "source": [
    "x = image.img_to_array(img)"
   ]
  },
  {
   "cell_type": "code",
   "execution_count": 38,
   "id": "bcb2ccc2",
   "metadata": {},
   "outputs": [
    {
     "data": {
      "text/plain": [
       "3"
      ]
     },
     "execution_count": 38,
     "metadata": {},
     "output_type": "execute_result"
    }
   ],
   "source": [
    "x.ndim"
   ]
  },
  {
   "cell_type": "code",
   "execution_count": 39,
   "id": "96aa98ba",
   "metadata": {},
   "outputs": [],
   "source": [
    "x = np.expand_dims(x,axis = 0)"
   ]
  },
  {
   "cell_type": "code",
   "execution_count": 48,
   "id": "4a03449c",
   "metadata": {},
   "outputs": [
    {
     "data": {
      "text/plain": [
       "4"
      ]
     },
     "execution_count": 48,
     "metadata": {},
     "output_type": "execute_result"
    }
   ],
   "source": [
    "x.ndim"
   ]
  },
  {
   "cell_type": "code",
   "execution_count": 49,
   "id": "ae0009a2",
   "metadata": {},
   "outputs": [
    {
     "name": "stdout",
     "output_type": "stream",
     "text": [
      "1/1 [==============================] - 0s 47ms/step\n"
     ]
    }
   ],
   "source": [
    "pred = model.predict(x)"
   ]
  },
  {
   "cell_type": "code",
   "execution_count": 50,
   "id": "af060a67",
   "metadata": {},
   "outputs": [
    {
     "data": {
      "text/plain": [
       "array([[1., 0., 0., 0., 0.]], dtype=float32)"
      ]
     },
     "execution_count": 50,
     "metadata": {},
     "output_type": "execute_result"
    }
   ],
   "source": [
    "pred"
   ]
  },
  {
   "cell_type": "code",
   "execution_count": 51,
   "id": "07393d7f",
   "metadata": {},
   "outputs": [],
   "source": [
    "labels = ['daisy','dandelion','roses','sunflowers','tulips']"
   ]
  },
  {
   "cell_type": "code",
   "execution_count": 52,
   "id": "ee42a66f",
   "metadata": {},
   "outputs": [
    {
     "data": {
      "text/plain": [
       "'daisy'"
      ]
     },
     "execution_count": 52,
     "metadata": {},
     "output_type": "execute_result"
    }
   ],
   "source": [
    "labels[np.argmax(pred)]"
   ]
  }
 ],
 "metadata": {
  "kernelspec": {
   "display_name": "Python 3 (ipykernel)",
   "language": "python",
   "name": "python3"
  },
  "language_info": {
   "codemirror_mode": {
    "name": "ipython",
    "version": 3
   },
   "file_extension": ".py",
   "mimetype": "text/x-python",
   "name": "python",
   "nbconvert_exporter": "python",
   "pygments_lexer": "ipython3",
   "version": "3.9.12"
  }
 },
 "nbformat": 4,
 "nbformat_minor": 5
}
