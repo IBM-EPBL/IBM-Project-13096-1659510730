{
 "cells": [
  {
   "cell_type": "code",
   "execution_count": 1,
   "id": "cee6e950",
   "metadata": {},
   "outputs": [],
   "source": [
    "import pandas as pd\n",
    "import numpy as np\n",
    "import matplotlib.pyplot as plt\n",
    "%matplotlib inline\n",
    "import seaborn as sns"
   ]
  },
  {
   "cell_type": "code",
   "execution_count": 2,
   "id": "eaf2d049",
   "metadata": {},
   "outputs": [],
   "source": [
    "import warnings\n",
    "warnings.filterwarnings(action = 'ignore')"
   ]
  },
  {
   "cell_type": "code",
   "execution_count": 7,
   "id": "071f8598",
   "metadata": {},
   "outputs": [],
   "source": [
    "import io\n",
    "data= pd.read_csv('C:\\\\Users\\\\ADMIN\\\\Desktop\\\\Assignment Files\\\\Churn_Modelling.csv')"
   ]
  },
  {
   "cell_type": "code",
   "execution_count": 8,
   "id": "bda3fa5b",
   "metadata": {},
   "outputs": [
    {
     "data": {
      "text/plain": [
       "RowNumber            int64\n",
       "CustomerId           int64\n",
       "Surname             object\n",
       "CreditScore          int64\n",
       "Geography           object\n",
       "Gender              object\n",
       "Age                float64\n",
       "Tenure               int64\n",
       "Balance            float64\n",
       "NumOfProducts        int64\n",
       "HasCrCard            int64\n",
       "IsActiveMember       int64\n",
       "EstimatedSalary    float64\n",
       "Exited               int64\n",
       "dtype: object"
      ]
     },
     "execution_count": 8,
     "metadata": {},
     "output_type": "execute_result"
    }
   ],
   "source": [
    "data.dtypes"
   ]
  },
  {
   "cell_type": "code",
   "execution_count": 9,
   "id": "42123fdd",
   "metadata": {},
   "outputs": [
    {
     "data": {
      "text/plain": [
       "RowNumber            int64\n",
       "CustomerId           int64\n",
       "CreditScore          int64\n",
       "Age                float64\n",
       "Tenure               int64\n",
       "Balance            float64\n",
       "NumOfProducts        int64\n",
       "HasCrCard            int64\n",
       "IsActiveMember       int64\n",
       "EstimatedSalary    float64\n",
       "Exited               int64\n",
       "dtype: object"
      ]
     },
     "execution_count": 9,
     "metadata": {},
     "output_type": "execute_result"
    }
   ],
   "source": [
    "data.select_dtypes(include=['int64','float64','Int64']).dtypes"
   ]
  },
  {
   "cell_type": "code",
   "execution_count": 10,
   "id": "b1d35d2a",
   "metadata": {},
   "outputs": [
    {
     "data": {
      "text/html": [
       "<div>\n",
       "<style scoped>\n",
       "    .dataframe tbody tr th:only-of-type {\n",
       "        vertical-align: middle;\n",
       "    }\n",
       "\n",
       "    .dataframe tbody tr th {\n",
       "        vertical-align: top;\n",
       "    }\n",
       "\n",
       "    .dataframe thead th {\n",
       "        text-align: right;\n",
       "    }\n",
       "</style>\n",
       "<table border=\"1\" class=\"dataframe\">\n",
       "  <thead>\n",
       "    <tr style=\"text-align: right;\">\n",
       "      <th></th>\n",
       "      <th>Surname</th>\n",
       "      <th>RowNumber</th>\n",
       "      <th>Exited</th>\n",
       "    </tr>\n",
       "  </thead>\n",
       "  <tbody>\n",
       "    <tr>\n",
       "      <th>2473</th>\n",
       "      <td>Smith</td>\n",
       "      <td>32</td>\n",
       "      <td>0.281250</td>\n",
       "    </tr>\n",
       "    <tr>\n",
       "      <th>1689</th>\n",
       "      <td>Martin</td>\n",
       "      <td>29</td>\n",
       "      <td>0.310345</td>\n",
       "    </tr>\n",
       "    <tr>\n",
       "      <th>2389</th>\n",
       "      <td>Scott</td>\n",
       "      <td>29</td>\n",
       "      <td>0.103448</td>\n",
       "    </tr>\n",
       "    <tr>\n",
       "      <th>2751</th>\n",
       "      <td>Walker</td>\n",
       "      <td>28</td>\n",
       "      <td>0.142857</td>\n",
       "    </tr>\n",
       "    <tr>\n",
       "      <th>336</th>\n",
       "      <td>Brown</td>\n",
       "      <td>26</td>\n",
       "      <td>0.192308</td>\n",
       "    </tr>\n",
       "  </tbody>\n",
       "</table>\n",
       "</div>"
      ],
      "text/plain": [
       "     Surname  RowNumber    Exited\n",
       "2473   Smith         32  0.281250\n",
       "1689  Martin         29  0.310345\n",
       "2389   Scott         29  0.103448\n",
       "2751  Walker         28  0.142857\n",
       "336    Brown         26  0.192308"
      ]
     },
     "execution_count": 10,
     "metadata": {},
     "output_type": "execute_result"
    }
   ],
   "source": [
    "data.groupby(['Surname']).agg({'RowNumber':'count', 'Exited':'mean'}\n",
    "                                  ).reset_index().sort_values(by='RowNumber', ascending=False).head()"
   ]
  },
  {
   "cell_type": "code",
   "execution_count": 11,
   "id": "4cf34a8d",
   "metadata": {},
   "outputs": [
    {
     "data": {
      "text/plain": [
       "<AxesSubplot:ylabel='CreditScore'>"
      ]
     },
     "execution_count": 11,
     "metadata": {},
     "output_type": "execute_result"
    },
    {
     "data": {
      "image/png": "[encoded data removed]",
      "text/plain": [
       "<Figure size 432x288 with 1 Axes>"
      ]
     },
     "metadata": {},
     "output_type": "display_data"
    }
   ],
   "source": [
    "#univariate analysis\n",
    "sns.set(style=\"whitegrid\")\n",
    "sns.boxplot(y=data['CreditScore'])"
   ]
  },
  {
   "cell_type": "code",
   "execution_count": 12,
   "id": "f0eb7aeb",
   "metadata": {},
   "outputs": [
    {
     "data": {
      "text/plain": [
       "<AxesSubplot:xlabel='NumOfProducts', ylabel='Tenure'>"
      ]
     },
     "execution_count": 12,
     "metadata": {},
     "output_type": "execute_result"
    },
    {
     "data": {
      "image/png": "[encoded data removed]",
      "text/plain": [
       "<Figure size 432x288 with 1 Axes>"
      ]
     },
     "metadata": {},
     "output_type": "display_data"
    }
   ],
   "source": [
    "sns.barplot(x=data.NumOfProducts,y=data.Tenure)"
   ]
  },
  {
   "cell_type": "code",
   "execution_count": 13,
   "id": "5313becb",
   "metadata": {},
   "outputs": [
    {
     "data": {
      "image/png": "[encoded data removed]",
      "text/plain": [
       "<Figure size 432x288 with 2 Axes>"
      ]
     },
     "metadata": {},
     "output_type": "display_data"
    }
   ],
   "source": [
    "#multivariate\n",
    "result = pd.pivot_table(data=data, index='Geography', columns='Tenure',values='Age')\n",
    "sns.heatmap(result, annot=True, cmap = 'RdYlGn_r').set_title('Multivariate analysis')\n",
    "plt.show()"
   ]
  },
  {
   "cell_type": "code",
   "execution_count": 14,
   "id": "a5b50ab5",
   "metadata": {},
   "outputs": [
    {
     "data": {
      "text/html": [
       "<div>\n",
       "<style scoped>\n",
       "    .dataframe tbody tr th:only-of-type {\n",
       "        vertical-align: middle;\n",
       "    }\n",
       "\n",
       "    .dataframe tbody tr th {\n",
       "        vertical-align: top;\n",
       "    }\n",
       "\n",
       "    .dataframe thead th {\n",
       "        text-align: right;\n",
       "    }\n",
       "</style>\n",
       "<table border=\"1\" class=\"dataframe\">\n",
       "  <thead>\n",
       "    <tr style=\"text-align: right;\">\n",
       "      <th></th>\n",
       "      <th>RowNumber</th>\n",
       "      <th>CustomerId</th>\n",
       "      <th>CreditScore</th>\n",
       "      <th>Age</th>\n",
       "      <th>Tenure</th>\n",
       "      <th>Balance</th>\n",
       "      <th>NumOfProducts</th>\n",
       "      <th>HasCrCard</th>\n",
       "      <th>IsActiveMember</th>\n",
       "      <th>EstimatedSalary</th>\n",
       "      <th>Exited</th>\n",
       "    </tr>\n",
       "  </thead>\n",
       "  <tbody>\n",
       "    <tr>\n",
       "      <th>count</th>\n",
       "      <td>10000.00000</td>\n",
       "      <td>1.000000e+04</td>\n",
       "      <td>10000.000000</td>\n",
       "      <td>9997.000000</td>\n",
       "      <td>10000.000000</td>\n",
       "      <td>10000.000000</td>\n",
       "      <td>10000.000000</td>\n",
       "      <td>10000.00000</td>\n",
       "      <td>10000.000000</td>\n",
       "      <td>10000.000000</td>\n",
       "      <td>10000.000000</td>\n",
       "    </tr>\n",
       "    <tr>\n",
       "      <th>mean</th>\n",
       "      <td>5000.50000</td>\n",
       "      <td>1.569094e+07</td>\n",
       "      <td>650.528800</td>\n",
       "      <td>38.921076</td>\n",
       "      <td>5.012800</td>\n",
       "      <td>76485.889288</td>\n",
       "      <td>1.530200</td>\n",
       "      <td>0.70550</td>\n",
       "      <td>0.515100</td>\n",
       "      <td>100090.239881</td>\n",
       "      <td>0.203700</td>\n",
       "    </tr>\n",
       "    <tr>\n",
       "      <th>std</th>\n",
       "      <td>2886.89568</td>\n",
       "      <td>7.193619e+04</td>\n",
       "      <td>96.653299</td>\n",
       "      <td>10.489008</td>\n",
       "      <td>2.892174</td>\n",
       "      <td>62397.405202</td>\n",
       "      <td>0.581654</td>\n",
       "      <td>0.45584</td>\n",
       "      <td>0.499797</td>\n",
       "      <td>57510.492818</td>\n",
       "      <td>0.402769</td>\n",
       "    </tr>\n",
       "    <tr>\n",
       "      <th>min</th>\n",
       "      <td>1.00000</td>\n",
       "      <td>1.556570e+07</td>\n",
       "      <td>350.000000</td>\n",
       "      <td>18.000000</td>\n",
       "      <td>0.000000</td>\n",
       "      <td>0.000000</td>\n",
       "      <td>1.000000</td>\n",
       "      <td>0.00000</td>\n",
       "      <td>0.000000</td>\n",
       "      <td>11.580000</td>\n",
       "      <td>0.000000</td>\n",
       "    </tr>\n",
       "    <tr>\n",
       "      <th>25%</th>\n",
       "      <td>2500.75000</td>\n",
       "      <td>1.562853e+07</td>\n",
       "      <td>584.000000</td>\n",
       "      <td>32.000000</td>\n",
       "      <td>3.000000</td>\n",
       "      <td>0.000000</td>\n",
       "      <td>1.000000</td>\n",
       "      <td>0.00000</td>\n",
       "      <td>0.000000</td>\n",
       "      <td>51002.110000</td>\n",
       "      <td>0.000000</td>\n",
       "    </tr>\n",
       "    <tr>\n",
       "      <th>50%</th>\n",
       "      <td>5000.50000</td>\n",
       "      <td>1.569074e+07</td>\n",
       "      <td>652.000000</td>\n",
       "      <td>37.000000</td>\n",
       "      <td>5.000000</td>\n",
       "      <td>97198.540000</td>\n",
       "      <td>1.000000</td>\n",
       "      <td>1.00000</td>\n",
       "      <td>1.000000</td>\n",
       "      <td>100193.915000</td>\n",
       "      <td>0.000000</td>\n",
       "    </tr>\n",
       "    <tr>\n",
       "      <th>75%</th>\n",
       "      <td>7500.25000</td>\n",
       "      <td>1.575323e+07</td>\n",
       "      <td>718.000000</td>\n",
       "      <td>44.000000</td>\n",
       "      <td>7.000000</td>\n",
       "      <td>127644.240000</td>\n",
       "      <td>2.000000</td>\n",
       "      <td>1.00000</td>\n",
       "      <td>1.000000</td>\n",
       "      <td>149388.247500</td>\n",
       "      <td>0.000000</td>\n",
       "    </tr>\n",
       "    <tr>\n",
       "      <th>max</th>\n",
       "      <td>10000.00000</td>\n",
       "      <td>1.581569e+07</td>\n",
       "      <td>850.000000</td>\n",
       "      <td>92.000000</td>\n",
       "      <td>10.000000</td>\n",
       "      <td>250898.090000</td>\n",
       "      <td>4.000000</td>\n",
       "      <td>1.00000</td>\n",
       "      <td>1.000000</td>\n",
       "      <td>199992.480000</td>\n",
       "      <td>1.000000</td>\n",
       "    </tr>\n",
       "  </tbody>\n",
       "</table>\n",
       "</div>"
      ],
      "text/plain": [
       "         RowNumber    CustomerId   CreditScore          Age        Tenure  \\\n",
       "count  10000.00000  1.000000e+04  10000.000000  9997.000000  10000.000000   \n",
       "mean    5000.50000  1.569094e+07    650.528800    38.921076      5.012800   \n",
       "std     2886.89568  7.193619e+04     96.653299    10.489008      2.892174   \n",
       "min        1.00000  1.556570e+07    350.000000    18.000000      0.000000   \n",
       "25%     2500.75000  1.562853e+07    584.000000    32.000000      3.000000   \n",
       "50%     5000.50000  1.569074e+07    652.000000    37.000000      5.000000   \n",
       "75%     7500.25000  1.575323e+07    718.000000    44.000000      7.000000   \n",
       "max    10000.00000  1.581569e+07    850.000000    92.000000     10.000000   \n",
       "\n",
       "             Balance  NumOfProducts    HasCrCard  IsActiveMember  \\\n",
       "count   10000.000000   10000.000000  10000.00000    10000.000000   \n",
       "mean    76485.889288       1.530200      0.70550        0.515100   \n",
       "std     62397.405202       0.581654      0.45584        0.499797   \n",
       "min         0.000000       1.000000      0.00000        0.000000   \n",
       "25%         0.000000       1.000000      0.00000        0.000000   \n",
       "50%     97198.540000       1.000000      1.00000        1.000000   \n",
       "75%    127644.240000       2.000000      1.00000        1.000000   \n",
       "max    250898.090000       4.000000      1.00000        1.000000   \n",
       "\n",
       "       EstimatedSalary        Exited  \n",
       "count     10000.000000  10000.000000  \n",
       "mean     100090.239881      0.203700  \n",
       "std       57510.492818      0.402769  \n",
       "min          11.580000      0.000000  \n",
       "25%       51002.110000      0.000000  \n",
       "50%      100193.915000      0.000000  \n",
       "75%      149388.247500      0.000000  \n",
       "max      199992.480000      1.000000  "
      ]
     },
     "execution_count": 14,
     "metadata": {},
     "output_type": "execute_result"
    }
   ],
   "source": [
    "data.describe()"
   ]
  },
  {
   "cell_type": "code",
   "execution_count": 15,
   "id": "f37ebb4a",
   "metadata": {},
   "outputs": [
    {
     "data": {
      "text/html": [
       "<div>\n",
       "<style scoped>\n",
       "    .dataframe tbody tr th:only-of-type {\n",
       "        vertical-align: middle;\n",
       "    }\n",
       "\n",
       "    .dataframe tbody tr th {\n",
       "        vertical-align: top;\n",
       "    }\n",
       "\n",
       "    .dataframe thead th {\n",
       "        text-align: right;\n",
       "    }\n",
       "</style>\n",
       "<table border=\"1\" class=\"dataframe\">\n",
       "  <thead>\n",
       "    <tr style=\"text-align: right;\">\n",
       "      <th></th>\n",
       "      <th>Surname</th>\n",
       "      <th>Geography</th>\n",
       "      <th>Gender</th>\n",
       "    </tr>\n",
       "  </thead>\n",
       "  <tbody>\n",
       "    <tr>\n",
       "      <th>count</th>\n",
       "      <td>10000</td>\n",
       "      <td>9999</td>\n",
       "      <td>9998</td>\n",
       "    </tr>\n",
       "    <tr>\n",
       "      <th>unique</th>\n",
       "      <td>2932</td>\n",
       "      <td>3</td>\n",
       "      <td>2</td>\n",
       "    </tr>\n",
       "    <tr>\n",
       "      <th>top</th>\n",
       "      <td>Smith</td>\n",
       "      <td>France</td>\n",
       "      <td>Male</td>\n",
       "    </tr>\n",
       "    <tr>\n",
       "      <th>freq</th>\n",
       "      <td>32</td>\n",
       "      <td>5014</td>\n",
       "      <td>5457</td>\n",
       "    </tr>\n",
       "  </tbody>\n",
       "</table>\n",
       "</div>"
      ],
      "text/plain": [
       "       Surname Geography Gender\n",
       "count    10000      9999   9998\n",
       "unique    2932         3      2\n",
       "top      Smith    France   Male\n",
       "freq        32      5014   5457"
      ]
     },
     "execution_count": 15,
     "metadata": {},
     "output_type": "execute_result"
    }
   ],
   "source": [
    "data.describe(include=['object'])"
   ]
  },
  {
   "cell_type": "code",
   "execution_count": 16,
   "id": "d2f5fbff",
   "metadata": {},
   "outputs": [
    {
     "data": {
      "text/plain": [
       "0    37.0\n",
       "Name: Age, dtype: float64"
      ]
     },
     "execution_count": 16,
     "metadata": {},
     "output_type": "execute_result"
    }
   ],
   "source": [
    "data['Age'].mode()"
   ]
  },
  {
   "cell_type": "code",
   "execution_count": 17,
   "id": "f294b1e7",
   "metadata": {},
   "outputs": [
    {
     "data": {
      "text/plain": [
       "38.921076322896866"
      ]
     },
     "execution_count": 17,
     "metadata": {},
     "output_type": "execute_result"
    }
   ],
   "source": [
    "data[\"Age\"].mean()"
   ]
  },
  {
   "cell_type": "code",
   "execution_count": 18,
   "id": "b064b54d",
   "metadata": {},
   "outputs": [],
   "source": [
    "m=round(data[\"Age\"].mean())"
   ]
  },
  {
   "cell_type": "code",
   "execution_count": 19,
   "id": "871bbc79",
   "metadata": {},
   "outputs": [
    {
     "data": {
      "text/plain": [
       "37.0"
      ]
     },
     "execution_count": 19,
     "metadata": {},
     "output_type": "execute_result"
    }
   ],
   "source": [
    "data[\"Age\"].median()"
   ]
  },
  {
   "cell_type": "code",
   "execution_count": 20,
   "id": "7c07eb2f",
   "metadata": {},
   "outputs": [
    {
     "name": "stdout",
     "output_type": "stream",
     "text": [
      "10\n"
     ]
    }
   ],
   "source": [
    "s=round(data['Age'].std())\n",
    "print(s)"
   ]
  },
  {
   "cell_type": "code",
   "execution_count": 21,
   "id": "8c8188c7",
   "metadata": {},
   "outputs": [
    {
     "data": {
      "text/plain": [
       "RowNumber          0\n",
       "CustomerId         0\n",
       "Surname            0\n",
       "CreditScore        0\n",
       "Geography          1\n",
       "Gender             2\n",
       "Age                3\n",
       "Tenure             0\n",
       "Balance            0\n",
       "NumOfProducts      0\n",
       "HasCrCard          0\n",
       "IsActiveMember     0\n",
       "EstimatedSalary    0\n",
       "Exited             0\n",
       "dtype: int64"
      ]
     },
     "execution_count": 21,
     "metadata": {},
     "output_type": "execute_result"
    }
   ],
   "source": [
    "#check missing values\n",
    "data.isna().sum()"
   ]
  },
  {
   "cell_type": "code",
   "execution_count": 22,
   "id": "4fdae0b9",
   "metadata": {},
   "outputs": [
    {
     "data": {
      "text/plain": [
       "0       619\n",
       "1       608\n",
       "2       502\n",
       "3       699\n",
       "4       850\n",
       "       ... \n",
       "9995    771\n",
       "9996    516\n",
       "9997    709\n",
       "9998    772\n",
       "9999    792\n",
       "Name: CreditScore, Length: 10000, dtype: int64"
      ]
     },
     "execution_count": 22,
     "metadata": {},
     "output_type": "execute_result"
    }
   ],
   "source": [
    "#Find the outliers and replace the outlier\n",
    "CreditScores = data['CreditScore']\n",
    "CreditScores"
   ]
  },
  {
   "cell_type": "code",
   "execution_count": 23,
   "id": "d1c8cb58",
   "metadata": {},
   "outputs": [
    {
     "data": {
      "image/png": "[encoded data removed]",
      "text/plain": [
       "<Figure size 432x288 with 1 Axes>"
      ]
     },
     "metadata": {},
     "output_type": "display_data"
    }
   ],
   "source": [
    "import matplotlib.pyplot as plt\n",
    "plt.boxplot(data['CreditScore'],showmeans = True)\n",
    "plt.show()"
   ]
  },
  {
   "cell_type": "code",
   "execution_count": 24,
   "id": "6fb9aff3",
   "metadata": {},
   "outputs": [
    {
     "name": "stdout",
     "output_type": "stream",
     "text": [
      "376\n",
      "376\n",
      "363\n",
      "359\n",
      "350\n",
      "350\n",
      "358\n",
      "351\n",
      "365\n",
      "367\n",
      "350\n",
      "350\n",
      "373\n",
      "350\n",
      "0       619\n",
      "1       608\n",
      "2       502\n",
      "3       699\n",
      "4       850\n",
      "       ... \n",
      "9995    771\n",
      "9996    516\n",
      "9997    709\n",
      "9998    772\n",
      "9999    792\n",
      "Name: CreditScore, Length: 10000, dtype: int64\n"
     ]
    }
   ],
   "source": [
    "df = data[data['CreditScore'] >= 378]\n",
    "for i in data['CreditScore']:\n",
    "    if(i<378):\n",
    "        print(i)\n",
    "print(data['CreditScore'])"
   ]
  },
  {
   "cell_type": "code",
   "execution_count": 25,
   "id": "a6a9f872",
   "metadata": {},
   "outputs": [
    {
     "data": {
      "text/plain": [
       "0            0.00\n",
       "1        83807.86\n",
       "2       159660.80\n",
       "3            0.00\n",
       "4       125510.82\n",
       "          ...    \n",
       "9995         0.00\n",
       "9996     57369.61\n",
       "9997         0.00\n",
       "9998     75075.31\n",
       "9999    130142.79\n",
       "Name: Balance, Length: 10000, dtype: float64"
      ]
     },
     "execution_count": 25,
     "metadata": {},
     "output_type": "execute_result"
    }
   ],
   "source": [
    "b = data['Balance']\n",
    "b"
   ]
  },
  {
   "cell_type": "code",
   "execution_count": 26,
   "id": "e2fded69",
   "metadata": {},
   "outputs": [
    {
     "data": {
      "image/png": "[encoded data removed]",
      "text/plain": [
       "<Figure size 432x288 with 1 Axes>"
      ]
     },
     "metadata": {},
     "output_type": "display_data"
    }
   ],
   "source": [
    "plt.boxplot(b)\n",
    "plt.show()"
   ]
  },
  {
   "cell_type": "code",
   "execution_count": 27,
   "id": "c7cd352d",
   "metadata": {},
   "outputs": [
    {
     "data": {
      "text/plain": [
       "0       101348.88\n",
       "1       112542.58\n",
       "2       113931.57\n",
       "3        93826.63\n",
       "4        79084.10\n",
       "          ...    \n",
       "9995     96270.64\n",
       "9996    101699.77\n",
       "9997     42085.58\n",
       "9998     92888.52\n",
       "9999     38190.78\n",
       "Name: EstimatedSalary, Length: 9986, dtype: float64"
      ]
     },
     "execution_count": 27,
     "metadata": {},
     "output_type": "execute_result"
    }
   ],
   "source": [
    "e= df['EstimatedSalary']\n",
    "e"
   ]
  },
  {
   "cell_type": "code",
   "execution_count": 28,
   "id": "947ccfab",
   "metadata": {},
   "outputs": [
    {
     "data": {
      "image/png": "[encoded data removed]",
      "text/plain": [
       "<Figure size 432x288 with 1 Axes>"
      ]
     },
     "metadata": {},
     "output_type": "display_data"
    }
   ],
   "source": [
    "plt.boxplot(e) \n",
    "plt.show()"
   ]
  },
  {
   "cell_type": "code",
   "execution_count": 29,
   "id": "f9ae2c37",
   "metadata": {},
   "outputs": [
    {
     "data": {
      "image/png": "[encoded data removed]",
      "text/plain": [
       "<Figure size 432x288 with 1 Axes>"
      ]
     },
     "metadata": {},
     "output_type": "display_data"
    }
   ],
   "source": [
    "a = data['Age']\n",
    "plt.boxplot(a)\n",
    "plt.show()"
   ]
  },
  {
   "cell_type": "code",
   "execution_count": 30,
   "id": "2c443f08",
   "metadata": {},
   "outputs": [
    {
     "data": {
      "text/plain": [
       "(array([  41,   43,   57,   84,  103,  157,  180,  229,  233,  242,  251,\n",
       "         275,  309,  363,  370,  384,  386,  398,  415,  483,  537,  558,\n",
       "         560,  566,  601,  611,  616,  629,  657,  677,  695,  735,  765,\n",
       "         768,  806,  810,  822,  858,  883,  887,  920,  927,  946,  950,\n",
       "         955,  961,  967,  995, 1007, 1037, 1038, 1053, 1112, 1116, 1190,\n",
       "        1202, 1231, 1232, 1243, 1249, 1275, 1282, 1325, 1339, 1384, 1403,\n",
       "        1406, 1429, 1435, 1453, 1515, 1539, 1584, 1603, 1610, 1637, 1785,\n",
       "        1805, 1852, 1860, 1895, 1898, 1901, 1927, 1974, 1989, 1995, 2005,\n",
       "        2032, 2046, 2071, 2087, 2096, 2101, 2147, 2152, 2157, 2237, 2254,\n",
       "        2267, 2291, 2294, 2426, 2431, 2451, 2452, 2511, 2512, 2525, 2533,\n",
       "        2545, 2590, 2606, 2650, 2661, 2704, 2708, 2751, 2763, 2768, 2769,\n",
       "        2772, 2782, 2846, 2868, 2892, 2899, 2916, 2917, 2999, 3024, 3045,\n",
       "        3101, 3133, 3157, 3183, 3194, 3220, 3296, 3299, 3302, 3305, 3308,\n",
       "        3337, 3357, 3359, 3369, 3373, 3375, 3378, 3387, 3394, 3425, 3453,\n",
       "        3488, 3490, 3518, 3522, 3532, 3540, 3550, 3554, 3564, 3566, 3584,\n",
       "        3593, 3632, 3637, 3638, 3642, 3681, 3682, 3693, 3710, 3719, 3724,\n",
       "        3752, 3765, 3804, 3817, 3871, 3872, 3879, 3900, 3901, 3918, 3931,\n",
       "        3938, 3971, 3985, 4001, 4016, 4039, 4042, 4086, 4133, 4138, 4148,\n",
       "        4153, 4161, 4232, 4235, 4247, 4264, 4271, 4288, 4304, 4309, 4326,\n",
       "        4351, 4357, 4369, 4378, 4387, 4426, 4429, 4454, 4481, 4482, 4492,\n",
       "        4497, 4550, 4554, 4581, 4586, 4635, 4669, 4689, 4738, 4742, 4792,\n",
       "        4806, 4823, 4840, 4922, 4938, 4957, 4983, 4991, 5011, 5024, 5029,\n",
       "        5059, 5123, 5127, 5139, 5150, 5188, 5214, 5216, 5226, 5246, 5290,\n",
       "        5304, 5359, 5368, 5396, 5430, 5448, 5481, 5499, 5505, 5511, 5567,\n",
       "        5568, 5572, 5630, 5642, 5646, 5651, 5655, 5662, 5674, 5689, 5733,\n",
       "        5768, 5774, 5808, 5816, 5831, 5858, 5898, 5948, 5987, 6037, 6107,\n",
       "        6143, 6157, 6158, 6162, 6164, 6203, 6221, 6269, 6280, 6306, 6348,\n",
       "        6357, 6364, 6366, 6401, 6434, 6506, 6521, 6523, 6572, 6603, 6617,\n",
       "        6697, 6700, 6706, 6712, 6750, 6754, 6803, 6890, 6961, 6988, 6999,\n",
       "        7048, 7049, 7054, 7062, 7069, 7085, 7129, 7130, 7133, 7147, 7185,\n",
       "        7193, 7229, 7234, 7263, 7293, 7353, 7366, 7383, 7490, 7505, 7514,\n",
       "        7517, 7539, 7543, 7614, 7615, 7620, 7659, 7678, 7683, 7685, 7700,\n",
       "        7706, 7710, 7711, 7718, 7764, 7767, 7775, 7779, 7793, 7804, 7842,\n",
       "        7885, 7889, 7900, 7924, 7947, 7986, 8010, 8028, 8085, 8089, 8146,\n",
       "        8160, 8183, 8197, 8205, 8207, 8294, 8311, 8375, 8384, 8434, 8448,\n",
       "        8457, 8459, 8468, 8478, 8552, 8558, 8567, 8592, 8664, 8676, 8679,\n",
       "        8701, 8748, 8750, 8751, 8756, 8775, 8781, 8810, 8853, 8888, 8905,\n",
       "        8918, 8958, 9006, 9009, 9050, 9068, 9090, 9100, 9104, 9150, 9162,\n",
       "        9211, 9249, 9267, 9272, 9280, 9297, 9306, 9309, 9312, 9320, 9321,\n",
       "        9339, 9367, 9378, 9389, 9412, 9415, 9425, 9459, 9477, 9493, 9542,\n",
       "        9544, 9569, 9574, 9576, 9580, 9582, 9632, 9657, 9659, 9667, 9672,\n",
       "        9674, 9704, 9719, 9720, 9722, 9733, 9739, 9751, 9818, 9865, 9880,\n",
       "        9883, 9922], dtype=int64),)"
      ]
     },
     "execution_count": 30,
     "metadata": {},
     "output_type": "execute_result"
    }
   ],
   "source": [
    "ageOutliers =  np.where(df['Age'] > 60)\n",
    "ageOutliers"
   ]
  },
  {
   "cell_type": "code",
   "execution_count": 31,
   "id": "89549c3a",
   "metadata": {},
   "outputs": [
    {
     "data": {
      "text/html": [
       "<div>\n",
       "<style scoped>\n",
       "    .dataframe tbody tr th:only-of-type {\n",
       "        vertical-align: middle;\n",
       "    }\n",
       "\n",
       "    .dataframe tbody tr th {\n",
       "        vertical-align: top;\n",
       "    }\n",
       "\n",
       "    .dataframe thead th {\n",
       "        text-align: right;\n",
       "    }\n",
       "</style>\n",
       "<table border=\"1\" class=\"dataframe\">\n",
       "  <thead>\n",
       "    <tr style=\"text-align: right;\">\n",
       "      <th></th>\n",
       "      <th>RowNumber</th>\n",
       "      <th>CustomerId</th>\n",
       "      <th>Surname</th>\n",
       "      <th>CreditScore</th>\n",
       "      <th>Geography</th>\n",
       "      <th>Gender</th>\n",
       "      <th>Age</th>\n",
       "      <th>Tenure</th>\n",
       "      <th>Balance</th>\n",
       "      <th>NumOfProducts</th>\n",
       "      <th>HasCrCard</th>\n",
       "      <th>IsActiveMember</th>\n",
       "      <th>EstimatedSalary</th>\n",
       "      <th>Exited</th>\n",
       "    </tr>\n",
       "  </thead>\n",
       "  <tbody>\n",
       "    <tr>\n",
       "      <th>0</th>\n",
       "      <td>1</td>\n",
       "      <td>15634602</td>\n",
       "      <td>Hargrave</td>\n",
       "      <td>619</td>\n",
       "      <td>France</td>\n",
       "      <td>Female</td>\n",
       "      <td>42.0</td>\n",
       "      <td>2</td>\n",
       "      <td>0.00</td>\n",
       "      <td>1</td>\n",
       "      <td>1</td>\n",
       "      <td>1</td>\n",
       "      <td>101348.88</td>\n",
       "      <td>1</td>\n",
       "    </tr>\n",
       "    <tr>\n",
       "      <th>1</th>\n",
       "      <td>2</td>\n",
       "      <td>15647311</td>\n",
       "      <td>Hill</td>\n",
       "      <td>608</td>\n",
       "      <td>Spain</td>\n",
       "      <td>Female</td>\n",
       "      <td>41.0</td>\n",
       "      <td>1</td>\n",
       "      <td>83807.86</td>\n",
       "      <td>1</td>\n",
       "      <td>0</td>\n",
       "      <td>1</td>\n",
       "      <td>112542.58</td>\n",
       "      <td>0</td>\n",
       "    </tr>\n",
       "    <tr>\n",
       "      <th>2</th>\n",
       "      <td>3</td>\n",
       "      <td>15619304</td>\n",
       "      <td>Onio</td>\n",
       "      <td>502</td>\n",
       "      <td>France</td>\n",
       "      <td>Female</td>\n",
       "      <td>42.0</td>\n",
       "      <td>8</td>\n",
       "      <td>159660.80</td>\n",
       "      <td>3</td>\n",
       "      <td>1</td>\n",
       "      <td>0</td>\n",
       "      <td>113931.57</td>\n",
       "      <td>1</td>\n",
       "    </tr>\n",
       "    <tr>\n",
       "      <th>3</th>\n",
       "      <td>4</td>\n",
       "      <td>15701354</td>\n",
       "      <td>Boni</td>\n",
       "      <td>699</td>\n",
       "      <td>France</td>\n",
       "      <td>Female</td>\n",
       "      <td>39.0</td>\n",
       "      <td>1</td>\n",
       "      <td>0.00</td>\n",
       "      <td>2</td>\n",
       "      <td>0</td>\n",
       "      <td>0</td>\n",
       "      <td>93826.63</td>\n",
       "      <td>0</td>\n",
       "    </tr>\n",
       "    <tr>\n",
       "      <th>4</th>\n",
       "      <td>5</td>\n",
       "      <td>15737888</td>\n",
       "      <td>Mitchell</td>\n",
       "      <td>850</td>\n",
       "      <td>Spain</td>\n",
       "      <td>Female</td>\n",
       "      <td>43.0</td>\n",
       "      <td>2</td>\n",
       "      <td>125510.82</td>\n",
       "      <td>1</td>\n",
       "      <td>1</td>\n",
       "      <td>1</td>\n",
       "      <td>79084.10</td>\n",
       "      <td>0</td>\n",
       "    </tr>\n",
       "    <tr>\n",
       "      <th>...</th>\n",
       "      <td>...</td>\n",
       "      <td>...</td>\n",
       "      <td>...</td>\n",
       "      <td>...</td>\n",
       "      <td>...</td>\n",
       "      <td>...</td>\n",
       "      <td>...</td>\n",
       "      <td>...</td>\n",
       "      <td>...</td>\n",
       "      <td>...</td>\n",
       "      <td>...</td>\n",
       "      <td>...</td>\n",
       "      <td>...</td>\n",
       "      <td>...</td>\n",
       "    </tr>\n",
       "    <tr>\n",
       "      <th>9995</th>\n",
       "      <td>9996</td>\n",
       "      <td>15606229</td>\n",
       "      <td>Obijiaku</td>\n",
       "      <td>771</td>\n",
       "      <td>France</td>\n",
       "      <td>Male</td>\n",
       "      <td>39.0</td>\n",
       "      <td>5</td>\n",
       "      <td>0.00</td>\n",
       "      <td>2</td>\n",
       "      <td>1</td>\n",
       "      <td>0</td>\n",
       "      <td>96270.64</td>\n",
       "      <td>0</td>\n",
       "    </tr>\n",
       "    <tr>\n",
       "      <th>9996</th>\n",
       "      <td>9997</td>\n",
       "      <td>15569892</td>\n",
       "      <td>Johnstone</td>\n",
       "      <td>516</td>\n",
       "      <td>France</td>\n",
       "      <td>Male</td>\n",
       "      <td>35.0</td>\n",
       "      <td>10</td>\n",
       "      <td>57369.61</td>\n",
       "      <td>1</td>\n",
       "      <td>1</td>\n",
       "      <td>1</td>\n",
       "      <td>101699.77</td>\n",
       "      <td>0</td>\n",
       "    </tr>\n",
       "    <tr>\n",
       "      <th>9997</th>\n",
       "      <td>9998</td>\n",
       "      <td>15584532</td>\n",
       "      <td>Liu</td>\n",
       "      <td>709</td>\n",
       "      <td>France</td>\n",
       "      <td>Female</td>\n",
       "      <td>36.0</td>\n",
       "      <td>7</td>\n",
       "      <td>0.00</td>\n",
       "      <td>1</td>\n",
       "      <td>0</td>\n",
       "      <td>1</td>\n",
       "      <td>42085.58</td>\n",
       "      <td>1</td>\n",
       "    </tr>\n",
       "    <tr>\n",
       "      <th>9998</th>\n",
       "      <td>9999</td>\n",
       "      <td>15682355</td>\n",
       "      <td>Sabbatini</td>\n",
       "      <td>772</td>\n",
       "      <td>Germany</td>\n",
       "      <td>Male</td>\n",
       "      <td>42.0</td>\n",
       "      <td>3</td>\n",
       "      <td>75075.31</td>\n",
       "      <td>2</td>\n",
       "      <td>1</td>\n",
       "      <td>0</td>\n",
       "      <td>92888.52</td>\n",
       "      <td>1</td>\n",
       "    </tr>\n",
       "    <tr>\n",
       "      <th>9999</th>\n",
       "      <td>10000</td>\n",
       "      <td>15628319</td>\n",
       "      <td>Walker</td>\n",
       "      <td>792</td>\n",
       "      <td>France</td>\n",
       "      <td>Female</td>\n",
       "      <td>28.0</td>\n",
       "      <td>4</td>\n",
       "      <td>130142.79</td>\n",
       "      <td>1</td>\n",
       "      <td>1</td>\n",
       "      <td>0</td>\n",
       "      <td>38190.78</td>\n",
       "      <td>0</td>\n",
       "    </tr>\n",
       "  </tbody>\n",
       "</table>\n",
       "<p>9533 rows × 14 columns</p>\n",
       "</div>"
      ],
      "text/plain": [
       "      RowNumber  CustomerId    Surname  CreditScore Geography  Gender   Age  \\\n",
       "0             1    15634602   Hargrave          619    France  Female  42.0   \n",
       "1             2    15647311       Hill          608     Spain  Female  41.0   \n",
       "2             3    15619304       Onio          502    France  Female  42.0   \n",
       "3             4    15701354       Boni          699    France  Female  39.0   \n",
       "4             5    15737888   Mitchell          850     Spain  Female  43.0   \n",
       "...         ...         ...        ...          ...       ...     ...   ...   \n",
       "9995       9996    15606229   Obijiaku          771    France    Male  39.0   \n",
       "9996       9997    15569892  Johnstone          516    France    Male  35.0   \n",
       "9997       9998    15584532        Liu          709    France  Female  36.0   \n",
       "9998       9999    15682355  Sabbatini          772   Germany    Male  42.0   \n",
       "9999      10000    15628319     Walker          792    France  Female  28.0   \n",
       "\n",
       "      Tenure    Balance  NumOfProducts  HasCrCard  IsActiveMember  \\\n",
       "0          2       0.00              1          1               1   \n",
       "1          1   83807.86              1          0               1   \n",
       "2          8  159660.80              3          1               0   \n",
       "3          1       0.00              2          0               0   \n",
       "4          2  125510.82              1          1               1   \n",
       "...      ...        ...            ...        ...             ...   \n",
       "9995       5       0.00              2          1               0   \n",
       "9996      10   57369.61              1          1               1   \n",
       "9997       7       0.00              1          0               1   \n",
       "9998       3   75075.31              2          1               0   \n",
       "9999       4  130142.79              1          1               0   \n",
       "\n",
       "      EstimatedSalary  Exited  \n",
       "0           101348.88       1  \n",
       "1           112542.58       0  \n",
       "2           113931.57       1  \n",
       "3            93826.63       0  \n",
       "4            79084.10       0  \n",
       "...               ...     ...  \n",
       "9995         96270.64       0  \n",
       "9996        101699.77       0  \n",
       "9997         42085.58       1  \n",
       "9998         92888.52       1  \n",
       "9999         38190.78       0  \n",
       "\n",
       "[9533 rows x 14 columns]"
      ]
     },
     "execution_count": 31,
     "metadata": {},
     "output_type": "execute_result"
    }
   ],
   "source": [
    "da = data[data['Age'] <=60 ]\n",
    "da"
   ]
  },
  {
   "cell_type": "code",
   "execution_count": 32,
   "id": "5ba2e872",
   "metadata": {},
   "outputs": [
    {
     "data": {
      "text/html": [
       "<div>\n",
       "<style scoped>\n",
       "    .dataframe tbody tr th:only-of-type {\n",
       "        vertical-align: middle;\n",
       "    }\n",
       "\n",
       "    .dataframe tbody tr th {\n",
       "        vertical-align: top;\n",
       "    }\n",
       "\n",
       "    .dataframe thead th {\n",
       "        text-align: right;\n",
       "    }\n",
       "</style>\n",
       "<table border=\"1\" class=\"dataframe\">\n",
       "  <thead>\n",
       "    <tr style=\"text-align: right;\">\n",
       "      <th></th>\n",
       "      <th>RowNumber</th>\n",
       "      <th>CustomerId</th>\n",
       "      <th>Surname</th>\n",
       "      <th>CreditScore</th>\n",
       "      <th>Geography</th>\n",
       "      <th>Gender</th>\n",
       "      <th>Age</th>\n",
       "      <th>Tenure</th>\n",
       "      <th>Balance</th>\n",
       "      <th>NumOfProducts</th>\n",
       "      <th>HasCrCard</th>\n",
       "      <th>IsActiveMember</th>\n",
       "      <th>EstimatedSalary</th>\n",
       "      <th>Exited</th>\n",
       "    </tr>\n",
       "  </thead>\n",
       "  <tbody>\n",
       "    <tr>\n",
       "      <th>0</th>\n",
       "      <td>1</td>\n",
       "      <td>15634602</td>\n",
       "      <td>Hargrave</td>\n",
       "      <td>619</td>\n",
       "      <td>France</td>\n",
       "      <td>Female</td>\n",
       "      <td>42.0</td>\n",
       "      <td>2</td>\n",
       "      <td>0.00</td>\n",
       "      <td>1</td>\n",
       "      <td>1</td>\n",
       "      <td>1</td>\n",
       "      <td>101348.88</td>\n",
       "      <td>1</td>\n",
       "    </tr>\n",
       "    <tr>\n",
       "      <th>1</th>\n",
       "      <td>2</td>\n",
       "      <td>15647311</td>\n",
       "      <td>Hill</td>\n",
       "      <td>608</td>\n",
       "      <td>Spain</td>\n",
       "      <td>Female</td>\n",
       "      <td>41.0</td>\n",
       "      <td>1</td>\n",
       "      <td>83807.86</td>\n",
       "      <td>1</td>\n",
       "      <td>0</td>\n",
       "      <td>1</td>\n",
       "      <td>112542.58</td>\n",
       "      <td>0</td>\n",
       "    </tr>\n",
       "    <tr>\n",
       "      <th>2</th>\n",
       "      <td>3</td>\n",
       "      <td>15619304</td>\n",
       "      <td>Onio</td>\n",
       "      <td>502</td>\n",
       "      <td>France</td>\n",
       "      <td>Female</td>\n",
       "      <td>42.0</td>\n",
       "      <td>8</td>\n",
       "      <td>159660.80</td>\n",
       "      <td>3</td>\n",
       "      <td>1</td>\n",
       "      <td>0</td>\n",
       "      <td>113931.57</td>\n",
       "      <td>1</td>\n",
       "    </tr>\n",
       "    <tr>\n",
       "      <th>3</th>\n",
       "      <td>4</td>\n",
       "      <td>15701354</td>\n",
       "      <td>Boni</td>\n",
       "      <td>699</td>\n",
       "      <td>France</td>\n",
       "      <td>Female</td>\n",
       "      <td>39.0</td>\n",
       "      <td>1</td>\n",
       "      <td>0.00</td>\n",
       "      <td>2</td>\n",
       "      <td>0</td>\n",
       "      <td>0</td>\n",
       "      <td>93826.63</td>\n",
       "      <td>0</td>\n",
       "    </tr>\n",
       "    <tr>\n",
       "      <th>4</th>\n",
       "      <td>5</td>\n",
       "      <td>15737888</td>\n",
       "      <td>Mitchell</td>\n",
       "      <td>850</td>\n",
       "      <td>Spain</td>\n",
       "      <td>Female</td>\n",
       "      <td>43.0</td>\n",
       "      <td>2</td>\n",
       "      <td>125510.82</td>\n",
       "      <td>1</td>\n",
       "      <td>1</td>\n",
       "      <td>1</td>\n",
       "      <td>79084.10</td>\n",
       "      <td>0</td>\n",
       "    </tr>\n",
       "    <tr>\n",
       "      <th>...</th>\n",
       "      <td>...</td>\n",
       "      <td>...</td>\n",
       "      <td>...</td>\n",
       "      <td>...</td>\n",
       "      <td>...</td>\n",
       "      <td>...</td>\n",
       "      <td>...</td>\n",
       "      <td>...</td>\n",
       "      <td>...</td>\n",
       "      <td>...</td>\n",
       "      <td>...</td>\n",
       "      <td>...</td>\n",
       "      <td>...</td>\n",
       "      <td>...</td>\n",
       "    </tr>\n",
       "    <tr>\n",
       "      <th>9995</th>\n",
       "      <td>9996</td>\n",
       "      <td>15606229</td>\n",
       "      <td>Obijiaku</td>\n",
       "      <td>771</td>\n",
       "      <td>France</td>\n",
       "      <td>Male</td>\n",
       "      <td>39.0</td>\n",
       "      <td>5</td>\n",
       "      <td>0.00</td>\n",
       "      <td>2</td>\n",
       "      <td>1</td>\n",
       "      <td>0</td>\n",
       "      <td>96270.64</td>\n",
       "      <td>0</td>\n",
       "    </tr>\n",
       "    <tr>\n",
       "      <th>9996</th>\n",
       "      <td>9997</td>\n",
       "      <td>15569892</td>\n",
       "      <td>Johnstone</td>\n",
       "      <td>516</td>\n",
       "      <td>France</td>\n",
       "      <td>Male</td>\n",
       "      <td>35.0</td>\n",
       "      <td>10</td>\n",
       "      <td>57369.61</td>\n",
       "      <td>1</td>\n",
       "      <td>1</td>\n",
       "      <td>1</td>\n",
       "      <td>101699.77</td>\n",
       "      <td>0</td>\n",
       "    </tr>\n",
       "    <tr>\n",
       "      <th>9997</th>\n",
       "      <td>9998</td>\n",
       "      <td>15584532</td>\n",
       "      <td>Liu</td>\n",
       "      <td>709</td>\n",
       "      <td>France</td>\n",
       "      <td>Female</td>\n",
       "      <td>36.0</td>\n",
       "      <td>7</td>\n",
       "      <td>0.00</td>\n",
       "      <td>1</td>\n",
       "      <td>0</td>\n",
       "      <td>1</td>\n",
       "      <td>42085.58</td>\n",
       "      <td>1</td>\n",
       "    </tr>\n",
       "    <tr>\n",
       "      <th>9998</th>\n",
       "      <td>9999</td>\n",
       "      <td>15682355</td>\n",
       "      <td>Sabbatini</td>\n",
       "      <td>772</td>\n",
       "      <td>Germany</td>\n",
       "      <td>Male</td>\n",
       "      <td>42.0</td>\n",
       "      <td>3</td>\n",
       "      <td>75075.31</td>\n",
       "      <td>2</td>\n",
       "      <td>1</td>\n",
       "      <td>0</td>\n",
       "      <td>92888.52</td>\n",
       "      <td>1</td>\n",
       "    </tr>\n",
       "    <tr>\n",
       "      <th>9999</th>\n",
       "      <td>10000</td>\n",
       "      <td>15628319</td>\n",
       "      <td>Walker</td>\n",
       "      <td>792</td>\n",
       "      <td>France</td>\n",
       "      <td>Female</td>\n",
       "      <td>28.0</td>\n",
       "      <td>4</td>\n",
       "      <td>130142.79</td>\n",
       "      <td>1</td>\n",
       "      <td>1</td>\n",
       "      <td>0</td>\n",
       "      <td>38190.78</td>\n",
       "      <td>0</td>\n",
       "    </tr>\n",
       "  </tbody>\n",
       "</table>\n",
       "<p>10000 rows × 14 columns</p>\n",
       "</div>"
      ],
      "text/plain": [
       "      RowNumber  CustomerId    Surname  CreditScore Geography  Gender   Age  \\\n",
       "0             1    15634602   Hargrave          619    France  Female  42.0   \n",
       "1             2    15647311       Hill          608     Spain  Female  41.0   \n",
       "2             3    15619304       Onio          502    France  Female  42.0   \n",
       "3             4    15701354       Boni          699    France  Female  39.0   \n",
       "4             5    15737888   Mitchell          850     Spain  Female  43.0   \n",
       "...         ...         ...        ...          ...       ...     ...   ...   \n",
       "9995       9996    15606229   Obijiaku          771    France    Male  39.0   \n",
       "9996       9997    15569892  Johnstone          516    France    Male  35.0   \n",
       "9997       9998    15584532        Liu          709    France  Female  36.0   \n",
       "9998       9999    15682355  Sabbatini          772   Germany    Male  42.0   \n",
       "9999      10000    15628319     Walker          792    France  Female  28.0   \n",
       "\n",
       "      Tenure    Balance  NumOfProducts  HasCrCard  IsActiveMember  \\\n",
       "0          2       0.00              1          1               1   \n",
       "1          1   83807.86              1          0               1   \n",
       "2          8  159660.80              3          1               0   \n",
       "3          1       0.00              2          0               0   \n",
       "4          2  125510.82              1          1               1   \n",
       "...      ...        ...            ...        ...             ...   \n",
       "9995       5       0.00              2          1               0   \n",
       "9996      10   57369.61              1          1               1   \n",
       "9997       7       0.00              1          0               1   \n",
       "9998       3   75075.31              2          1               0   \n",
       "9999       4  130142.79              1          1               0   \n",
       "\n",
       "      EstimatedSalary  Exited  \n",
       "0           101348.88       1  \n",
       "1           112542.58       0  \n",
       "2           113931.57       1  \n",
       "3            93826.63       0  \n",
       "4            79084.10       0  \n",
       "...               ...     ...  \n",
       "9995         96270.64       0  \n",
       "9996        101699.77       0  \n",
       "9997         42085.58       1  \n",
       "9998         92888.52       1  \n",
       "9999         38190.78       0  \n",
       "\n",
       "[10000 rows x 14 columns]"
      ]
     },
     "execution_count": 32,
     "metadata": {},
     "output_type": "execute_result"
    }
   ],
   "source": [
    "#Check for Categorical columns and perform encoding.\n",
    "data"
   ]
  },
  {
   "cell_type": "code",
   "execution_count": 33,
   "id": "7edec241",
   "metadata": {},
   "outputs": [
    {
     "data": {
      "text/plain": [
       "['Surname', 'Geography', 'Gender']"
      ]
     },
     "execution_count": 33,
     "metadata": {},
     "output_type": "execute_result"
    }
   ],
   "source": [
    "from pandas.api.types import is_string_dtype\n",
    "continuous=[]\n",
    "categorical=[]\n",
    "for data1 in data:\n",
    "    if is_string_dtype(data[data1]):\n",
    "        categorical.append(data1)\n",
    "    else:\n",
    "        continuous.append(data1)\n",
    "categorical"
   ]
  },
  {
   "cell_type": "code",
   "execution_count": 34,
   "id": "6e03882c",
   "metadata": {},
   "outputs": [
    {
     "name": "stdout",
     "output_type": "stream",
     "text": [
      "[[    1]\n",
      " [    2]\n",
      " [    3]\n",
      " ...\n",
      " [ 9998]\n",
      " [ 9999]\n",
      " [10000]]\n",
      "0       15634602\n",
      "1       15647311\n",
      "2       15619304\n",
      "3       15701354\n",
      "4       15737888\n",
      "          ...   \n",
      "9995    15606229\n",
      "9996    15569892\n",
      "9997    15584532\n",
      "9998    15682355\n",
      "9999    15628319\n",
      "Name: CustomerId, Length: 10000, dtype: int64\n"
     ]
    }
   ],
   "source": [
    "#Split the data into dependent and independent variables.\n",
    "x = data.iloc[:, 0:1].values\n",
    "y = data.iloc[:, 1]\n",
    "print(x)\n",
    "print(y)"
   ]
  },
  {
   "cell_type": "code",
   "execution_count": 35,
   "id": "67459fba",
   "metadata": {},
   "outputs": [],
   "source": [
    "from sklearn.preprocessing import StandardScaler\n",
    "sc = StandardScaler()\n",
    "X_train = sc.fit_transform(x)\n",
    "X_test = sc.transform(x)"
   ]
  },
  {
   "cell_type": "code",
   "execution_count": 36,
   "id": "8e376058",
   "metadata": {},
   "outputs": [],
   "source": [
    "#Split the data into training and testing\n",
    "from sklearn.model_selection import train_test_split\n",
    "X_train, X_test, y_train, y_test=train_test_split(data,y,test_size=0.2)"
   ]
  },
  {
   "cell_type": "code",
   "execution_count": 37,
   "id": "f11bb8ab",
   "metadata": {},
   "outputs": [
    {
     "name": "stdout",
     "output_type": "stream",
     "text": [
      "      RowNumber  CustomerId      Surname  CreditScore Geography  Gender   Age  \\\n",
      "2526       2527    15727919  Chukwuemeka          671     Spain  Female  29.0   \n",
      "3530       3531    15623712       Coates          453     Spain  Female  42.0   \n",
      "6689       6690    15614923      Nielson          630     Spain    Male  41.0   \n",
      "5803       5804    15672053       Mistry          526     Spain    Male  38.0   \n",
      "950         951    15630328         Bird          635    France  Female  48.0   \n",
      "...         ...         ...          ...          ...       ...     ...   ...   \n",
      "239         240    15795149      Stevens          703    France    Male  28.0   \n",
      "4809       4810    15662238        Davis          822    France    Male  37.0   \n",
      "3123       3124    15622171       Nnamdi          642    France    Male  30.0   \n",
      "1054       1055    15743016    MacDonald          602     Spain  Female  22.0   \n",
      "4452       4453    15704788     Krawczyk          812     Spain  Female  49.0   \n",
      "\n",
      "      Tenure    Balance  NumOfProducts  HasCrCard  IsActiveMember  \\\n",
      "2526       6       0.00              2          0               0   \n",
      "3530       5       0.00              3          1               0   \n",
      "6689       7  107511.52              1          0               1   \n",
      "5803       2       0.00              2          0               0   \n",
      "950        8  130796.33              2          1               1   \n",
      "...      ...        ...            ...        ...             ...   \n",
      "239        2   81173.83              2          0               1   \n",
      "4809       3  105563.00              1          1               0   \n",
      "3123       8   80964.57              2          1               0   \n",
      "1054       7  141604.76              1          1               0   \n",
      "4452       8   66079.45              2          0               0   \n",
      "\n",
      "      EstimatedSalary  Exited  \n",
      "2526         12048.67       0  \n",
      "3530         83008.49       1  \n",
      "6689         46156.87       0  \n",
      "5803         58010.98       0  \n",
      "950          43250.30       0  \n",
      "...               ...     ...  \n",
      "239         162812.16       0  \n",
      "4809        182624.93       0  \n",
      "3123        174738.20       0  \n",
      "1054         30379.60       0  \n",
      "4452         91556.57       1  \n",
      "\n",
      "[8000 rows x 14 columns]\n"
     ]
    }
   ],
   "source": [
    "print(X_train)"
   ]
  },
  {
   "cell_type": "code",
   "execution_count": 38,
   "id": "7ba8eb90",
   "metadata": {},
   "outputs": [
    {
     "name": "stdout",
     "output_type": "stream",
     "text": [
      "      RowNumber  CustomerId          Surname  CreditScore Geography  Gender  \\\n",
      "1243       1244    15593331          Sidorov          693   Germany    Male   \n",
      "5484       5485    15595842          Paramor          748   Germany    Male   \n",
      "591         592    15604044         Mitchell          700    France    Male   \n",
      "9384       9385    15686242  Otutodilichukwu          771    France  Female   \n",
      "5002       5003    15737556         Vasilyev          590    France    Male   \n",
      "...         ...         ...              ...          ...       ...     ...   \n",
      "650         651    15730447         Anderson          629    France  Female   \n",
      "5636       5637    15626679           Linger          584    France    Male   \n",
      "4941       4942    15715047           Joshua          640     Spain    Male   \n",
      "2357       2358    15588701              Lai          592    France  Female   \n",
      "8601       8602    15647570            Chung          640   Germany    Male   \n",
      "\n",
      "       Age  Tenure    Balance  NumOfProducts  HasCrCard  IsActiveMember  \\\n",
      "1243  25.0       6  146580.69              1          0               1   \n",
      "5484  45.0       2  119852.01              1          0               0   \n",
      "591   38.0       8  134811.30              1          1               0   \n",
      "9384  57.0       4       0.00              1          0               0   \n",
      "5002  43.0       7   81076.80              2          1               1   \n",
      "...    ...     ...        ...            ...        ...             ...   \n",
      "650   49.0       4       0.00              2          1               1   \n",
      "5636  33.0       3       0.00              2          0               1   \n",
      "4941  43.0       9  172478.15              1          1               0   \n",
      "2357  38.0       4       0.00              2          1               0   \n",
      "8601  45.0       8  120591.19              1          0               0   \n",
      "\n",
      "      EstimatedSalary  Exited  \n",
      "1243         14633.35       0  \n",
      "5484         73853.94       1  \n",
      "591           1299.75       0  \n",
      "9384         85876.67       1  \n",
      "5002        182627.25       1  \n",
      "...               ...     ...  \n",
      "650         196335.48       0  \n",
      "5636         59103.13       0  \n",
      "4941        191084.40       1  \n",
      "2357         35338.96       0  \n",
      "8601        195123.94       0  \n",
      "\n",
      "[2000 rows x 14 columns]\n"
     ]
    }
   ],
   "source": [
    "print(X_test)"
   ]
  },
  {
   "cell_type": "code",
   "execution_count": 39,
   "id": "26742eaa",
   "metadata": {},
   "outputs": [
    {
     "name": "stdout",
     "output_type": "stream",
     "text": [
      "2526    15727919\n",
      "3530    15623712\n",
      "6689    15614923\n",
      "5803    15672053\n",
      "950     15630328\n",
      "          ...   \n",
      "239     15795149\n",
      "4809    15662238\n",
      "3123    15622171\n",
      "1054    15743016\n",
      "4452    15704788\n",
      "Name: CustomerId, Length: 8000, dtype: int64\n"
     ]
    }
   ],
   "source": [
    "print(y_train)"
   ]
  },
  {
   "cell_type": "code",
   "execution_count": 40,
   "id": "4be5df54",
   "metadata": {},
   "outputs": [
    {
     "name": "stdout",
     "output_type": "stream",
     "text": [
      "1243    15593331\n",
      "5484    15595842\n",
      "591     15604044\n",
      "9384    15686242\n",
      "5002    15737556\n",
      "          ...   \n",
      "650     15730447\n",
      "5636    15626679\n",
      "4941    15715047\n",
      "2357    15588701\n",
      "8601    15647570\n",
      "Name: CustomerId, Length: 2000, dtype: int64\n"
     ]
    }
   ],
   "source": [
    "print(y_test)"
   ]
  }
 ],
 "metadata": {
  "kernelspec": {
   "display_name": "Python 3 (ipykernel)",
   "language": "python",
   "name": "python3"
  },
  "language_info": {
   "codemirror_mode": {
    "name": "ipython",
    "version": 3
   },
   "file_extension": ".py",
   "mimetype": "text/x-python",
   "name": "python",
   "nbconvert_exporter": "python",
   "pygments_lexer": "ipython3",
   "version": "3.9.12"
  }
 },
 "nbformat": 4,
 "nbformat_minor": 5
}
