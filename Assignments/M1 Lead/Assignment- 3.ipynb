{
 "cells": [
  {
   "cell_type": "code",
   "execution_count": 1,
   "id": "46c7cfd8",
   "metadata": {},
   "outputs": [],
   "source": [
    "from tensorflow.keras.preprocessing.image import ImageDataGenerator"
   ]
  },
  {
   "cell_type": "code",
   "execution_count": 2,
   "id": "876b5313",
   "metadata": {},
   "outputs": [],
   "source": [
    "train_datagen = ImageDataGenerator(rescale = 1./255, horizontal_flip = True, vertical_flip = True, zoom_range = 0.2)"
   ]
  },
  {
   "cell_type": "code",
   "execution_count": 3,
   "id": "43e3b1f4",
   "metadata": {},
   "outputs": [
    {
     "name": "stdout",
     "output_type": "stream",
     "text": [
      "Found 4317 images belonging to 5 classes.\n"
     ]
    }
   ],
   "source": [
    "x_train = train_datagen.flow_from_directory(r\"C:\\Users\\samjo\\Jupyder\\flowers\", target_size = (64,64) , class_mode = \"categorical\", batch_size = 100)"
   ]
  },
  {
   "cell_type": "code",
   "execution_count": 4,
   "id": "e418dcaa",
   "metadata": {},
   "outputs": [],
   "source": [
    "from tensorflow.keras.models import Sequential\n",
    "from tensorflow.keras.layers import Convolution2D,MaxPooling2D,Flatten,Dense"
   ]
  },
  {
   "cell_type": "code",
   "execution_count": 5,
   "id": "a7c2dae9",
   "metadata": {},
   "outputs": [],
   "source": [
    "model = Sequential()"
   ]
  },
  {
   "cell_type": "code",
   "execution_count": 6,
   "id": "68714898",
   "metadata": {},
   "outputs": [],
   "source": [
    "model.add(Convolution2D(32, (3,3), activation = \"relu\", input_shape = (64,64,3) ))"
   ]
  },
  {
   "cell_type": "code",
   "execution_count": 7,
   "id": "5f6a7b76",
   "metadata": {},
   "outputs": [],
   "source": [
    "model.add(MaxPooling2D(pool_size = (2,2)))"
   ]
  },
  {
   "cell_type": "code",
   "execution_count": 8,
   "id": "24de52c7",
   "metadata": {},
   "outputs": [],
   "source": [
    "model.add(Flatten())"
   ]
  },
  {
   "cell_type": "code",
   "execution_count": 9,
   "id": "213444cc",
   "metadata": {},
   "outputs": [],
   "source": [
    "model.add(Dense(300, activation = \"relu\"))"
   ]
  },
  {
   "cell_type": "code",
   "execution_count": 10,
   "id": "3787f92a",
   "metadata": {},
   "outputs": [],
   "source": [
    "model.add(Dense(150, activation = \"relu\")) #mulitple dense layers"
   ]
  },
  {
   "cell_type": "code",
   "execution_count": 11,
   "id": "1010a19d",
   "metadata": {},
   "outputs": [],
   "source": [
    "model.add(Dense(5, activation = \"softmax\")) #output layer"
   ]
  },
  {
   "cell_type": "code",
   "execution_count": 12,
   "id": "1810c458",
   "metadata": {},
   "outputs": [],
   "source": [
    "model.compile(loss = \"categorical_crossentropy\", metrics = [\"accuracy\"], optimizer = \"adam\")"
   ]
  },
  {
   "cell_type": "code",
   "execution_count": 13,
   "id": "55a95731",
   "metadata": {},
   "outputs": [
    {
     "data": {
      "text/plain": [
       "44"
      ]
     },
     "execution_count": 13,
     "metadata": {},
     "output_type": "execute_result"
    }
   ],
   "source": [
    "len(x_train)"
   ]
  },
  {
   "cell_type": "code",
   "execution_count": 14,
   "id": "8631b116",
   "metadata": {},
   "outputs": [
    {
     "name": "stdout",
     "output_type": "stream",
     "text": [
      "Epoch 1/15\n",
      "44/44 [==============================] - 55s 1s/step - loss: 1.4431 - accuracy: 0.3880\n",
      "Epoch 2/15\n",
      "44/44 [==============================] - 53s 1s/step - loss: 1.0914 - accuracy: 0.5580\n",
      "Epoch 3/15\n",
      "44/44 [==============================] - 52s 1s/step - loss: 1.0293 - accuracy: 0.5942\n",
      "Epoch 4/15\n",
      "44/44 [==============================] - 51s 1s/step - loss: 0.9781 - accuracy: 0.6192\n",
      "Epoch 5/15\n",
      "44/44 [==============================] - 31s 696ms/step - loss: 0.9435 - accuracy: 0.6282\n",
      "Epoch 6/15\n",
      "44/44 [==============================] - 18s 402ms/step - loss: 0.8956 - accuracy: 0.6505\n",
      "Epoch 7/15\n",
      "44/44 [==============================] - 17s 391ms/step - loss: 0.8709 - accuracy: 0.6565\n",
      "Epoch 8/15\n",
      "44/44 [==============================] - 17s 380ms/step - loss: 0.8384 - accuracy: 0.6729\n",
      "Epoch 9/15\n",
      "44/44 [==============================] - 17s 392ms/step - loss: 0.7909 - accuracy: 0.6912\n",
      "Epoch 10/15\n",
      "44/44 [==============================] - 17s 381ms/step - loss: 0.7761 - accuracy: 0.6947\n",
      "Epoch 11/15\n",
      "44/44 [==============================] - 17s 380ms/step - loss: 0.7698 - accuracy: 0.6982\n",
      "Epoch 12/15\n",
      "44/44 [==============================] - 17s 380ms/step - loss: 0.7321 - accuracy: 0.7227\n",
      "Epoch 13/15\n",
      "44/44 [==============================] - 17s 380ms/step - loss: 0.7333 - accuracy: 0.7132\n",
      "Epoch 14/15\n",
      "44/44 [==============================] - 17s 387ms/step - loss: 0.6994 - accuracy: 0.7294\n",
      "Epoch 15/15\n",
      "44/44 [==============================] - 17s 383ms/step - loss: 0.6764 - accuracy: 0.7426\n"
     ]
    },
    {
     "data": {
      "text/plain": [
       "<keras.callbacks.History at 0x1788af70e50>"
      ]
     },
     "execution_count": 14,
     "metadata": {},
     "output_type": "execute_result"
    }
   ],
   "source": [
    "model.fit(x_train, epochs = 15, steps_per_epoch = len(x_train))"
   ]
  },
  {
   "cell_type": "code",
   "execution_count": 15,
   "id": "f819b38f",
   "metadata": {},
   "outputs": [],
   "source": [
    "model.save(\"flowers.h5\")"
   ]
  },
  {
   "cell_type": "code",
   "execution_count": 16,
   "id": "0cc2e47b",
   "metadata": {},
   "outputs": [],
   "source": [
    "from tensorflow.keras.models import load_model\n",
    "from tensorflow.keras.preprocessing import image\n",
    "import numpy as np"
   ]
  },
  {
   "cell_type": "code",
   "execution_count": 17,
   "id": "9cb00e10",
   "metadata": {},
   "outputs": [],
   "source": [
    "model = load_model(\"flowers.h5\")"
   ]
  },
  {
   "cell_type": "code",
   "execution_count": 18,
   "id": "41b1b382",
   "metadata": {},
   "outputs": [],
   "source": [
    "img = image.load_img(\"F:\\\\sunflor.jpg\" , target_size = (64,64)) "
   ]
  },
  {
   "cell_type": "code",
   "execution_count": 19,
   "id": "4b3f7255",
   "metadata": {},
   "outputs": [
    {
     "data": {
      "image/png": "[encoded data removed]",
      "text/plain": [
       "<PIL.Image.Image image mode=RGB size=64x64 at 0x1788F11D340>"
      ]
     },
     "execution_count": 19,
     "metadata": {},
     "output_type": "execute_result"
    }
   ],
   "source": [
    "img"
   ]
  },
  {
   "cell_type": "code",
   "execution_count": 20,
   "id": "0713bf59",
   "metadata": {},
   "outputs": [],
   "source": [
    "x = image.img_to_array(img)"
   ]
  },
  {
   "cell_type": "code",
   "execution_count": 21,
   "id": "b56f4401",
   "metadata": {},
   "outputs": [
    {
     "data": {
      "text/plain": [
       "3"
      ]
     },
     "execution_count": 21,
     "metadata": {},
     "output_type": "execute_result"
    }
   ],
   "source": [
    "x.ndim"
   ]
  },
  {
   "cell_type": "code",
   "execution_count": 22,
   "id": "df30d725",
   "metadata": {},
   "outputs": [],
   "source": [
    "x = np.expand_dims(x,axis = 0)"
   ]
  },
  {
   "cell_type": "code",
   "execution_count": 23,
   "id": "6687e7fc",
   "metadata": {},
   "outputs": [
    {
     "data": {
      "text/plain": [
       "4"
      ]
     },
     "execution_count": 23,
     "metadata": {},
     "output_type": "execute_result"
    }
   ],
   "source": [
    "x.ndim"
   ]
  },
  {
   "cell_type": "code",
   "execution_count": 24,
   "id": "ad51fd89",
   "metadata": {},
   "outputs": [
    {
     "name": "stdout",
     "output_type": "stream",
     "text": [
      "1/1 [==============================] - 0s 101ms/step\n"
     ]
    }
   ],
   "source": [
    "pred = model.predict(x)"
   ]
  },
  {
   "cell_type": "code",
   "execution_count": 25,
   "id": "296f0476",
   "metadata": {},
   "outputs": [
    {
     "data": {
      "text/plain": [
       "array([[0., 0., 0., 1., 0.]], dtype=float32)"
      ]
     },
     "execution_count": 25,
     "metadata": {},
     "output_type": "execute_result"
    }
   ],
   "source": [
    "pred"
   ]
  },
  {
   "cell_type": "code",
   "execution_count": 26,
   "id": "e1ec7eef",
   "metadata": {},
   "outputs": [],
   "source": [
    "labels = ['daisy','dandelion','roses','sunflowers','tulips']"
   ]
  },
  {
   "cell_type": "code",
   "execution_count": 27,
   "id": "41eac1b6",
   "metadata": {},
   "outputs": [
    {
     "data": {
      "text/plain": [
       "'sunflowers'"
      ]
     },
     "execution_count": 27,
     "metadata": {},
     "output_type": "execute_result"
    }
   ],
   "source": [
    "labels[np.argmax(pred)]"
   ]
  },
  {
   "cell_type": "code",
   "execution_count": null,
   "id": "a5b76d26",
   "metadata": {},
   "outputs": [],
   "source": []
  }
 ],
 "metadata": {
  "kernelspec": {
   "display_name": "Python 3 (ipykernel)",
   "language": "python",
   "name": "python3"
  },
  "language_info": {
   "codemirror_mode": {
    "name": "ipython",
    "version": 3
   },
   "file_extension": ".py",
   "mimetype": "text/x-python",
   "name": "python",
   "nbconvert_exporter": "python",
   "pygments_lexer": "ipython3",
   "version": "3.9.12"
  }
 },
 "nbformat": 4,
 "nbformat_minor": 5
}
